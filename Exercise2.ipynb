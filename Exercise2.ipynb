{
  "nbformat": 4,
  "nbformat_minor": 0,
  "metadata": {
    "colab": {
      "name": "Exercise2.ipynb",
      "provenance": [],
      "authorship_tag": "ABX9TyMSFpRU+5vtu61NBcN0f41I",
      "include_colab_link": true
    },
    "kernelspec": {
      "name": "python3",
      "display_name": "Python 3"
    }
  },
  "cells": [
    {
      "cell_type": "markdown",
      "metadata": {
        "id": "view-in-github",
        "colab_type": "text"
      },
      "source": [
        "<a href=\"https://colab.research.google.com/github/dianakorka/datasharing/blob/master/Exercise2.ipynb\" target=\"_parent\"><img src=\"https://colab.research.google.com/assets/colab-badge.svg\" alt=\"Open In Colab\"/></a>"
      ]
    },
    {
      "cell_type": "markdown",
      "metadata": {
        "id": "EaZI0zSIYpF4",
        "colab_type": "text"
      },
      "source": [
        "# Exercise 2\n"
      ]
    },
    {
      "cell_type": "markdown",
      "metadata": {
        "id": "Fn-hDiimZH7Y",
        "colab_type": "text"
      },
      "source": [
        "<img src='https://www.carlogos.org/car-logos/tesla-logo-2200x2800.png' width=\"200\">\n",
        "\n",
        "## Tesla, Inc. (TSLA)"
      ]
    },
    {
      "cell_type": "markdown",
      "metadata": {
        "id": "9lsGW4MpaO62",
        "colab_type": "text"
      },
      "source": [
        "## About\n",
        "Tesla, Inc. (formerly Tesla Motors, Inc.) is an American electric vehicle and clean energy company based in Palo Alto, California. The company specializes in electroic vehicle manufacturing, battery energy storage from home to grid scale and, through it's acquisition of [SolarCity](https://en.wikipedia.org/wiki/SolarCity), solar panel and solar roof tile manufacturing.\n",
        "\n",
        "Tesla has released the following models:\n",
        "- MODEL S\n",
        "- MODEL 3\n",
        "- MODEL X\n",
        "- MODEL Y"
      ]
    },
    {
      "cell_type": "markdown",
      "metadata": {
        "id": "y9VT-izxbyCF",
        "colab_type": "text"
      },
      "source": [
        "## News\n",
        "\n",
        "- Lessons from Tesla's approcah to innovation (read [article](https://en.wikipedia.org/wiki/SolarCity))\n",
        "- Tesla recently released the specs of its [Cybertrack](https://en.wikipedia.org/wiki/SolarCity)"
      ]
    },
    {
      "cell_type": "markdown",
      "metadata": {
        "id": "1S1-_Szjc9UV",
        "colab_type": "text"
      },
      "source": [
        "## Key executives\n",
        "\n",
        "Name | Title | Pay | Exercised | Year | Born\n",
        "--- | --- | --- | --- | --- | ---\n",
        "Mr. Elon R. Musk | Founder, CEO & Director | 56.38k  | N/A  | 1972\n",
        "Mr. Jeffrey B. Straubel | Sr. Advisor | 250.56k  | 9.41M | 1976\n",
        "Mr. Jerome Guillen | Pres. of Automative Division| 301.15k  | 1.63M | 1963\n",
        "Mr. Zachary Kirkhorn | Chief Financial Offier | N/A  | N/A | 1985\n",
        "Mr. Vaibhav Taneja | Corp. Controller and Chief Accounting Officer | N/A  | N/A | 1978\n"
      ]
    },
    {
      "cell_type": "markdown",
      "metadata": {
        "id": "mXxEfsoTfQ8Q",
        "colab_type": "text"
      },
      "source": [
        "## Videos\n",
        "Below you can find a video from a recent event:"
      ]
    },
    {
      "cell_type": "code",
      "metadata": {
        "id": "SwyJMthmfqJr",
        "colab_type": "code",
        "colab": {
          "base_uri": "https://localhost:8080/",
          "height": 365
        },
        "outputId": "2f2e8973-af7c-4f14-f3bc-cfe78872f8d3"
      },
      "source": [
        "%%HTML\n",
        "<iframe width=\"560\" height=\"340\" src=\"https://www.youtube.com/embed/m7atGkba-Z8\"></iframe>"
      ],
      "execution_count": 9,
      "outputs": [
        {
          "output_type": "display_data",
          "data": {
            "text/html": [
              "<iframe width=\"560\" height=\"340\" src=\"https://www.youtube.com/embed/m7atGkba-Z8\"></iframe>"
            ],
            "text/plain": [
              "<IPython.core.display.HTML object>"
            ]
          },
          "metadata": {
            "tags": []
          }
        }
      ]
    },
    {
      "cell_type": "code",
      "metadata": {
        "id": "wCOiRBKlfrLZ",
        "colab_type": "code",
        "colab": {}
      },
      "source": [
        ""
      ],
      "execution_count": null,
      "outputs": []
    }
  ]
}